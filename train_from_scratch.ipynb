{
 "cells": [
  {
   "cell_type": "code",
   "execution_count": 2,
   "metadata": {},
   "outputs": [],
   "source": [
    "# Download and unzip embeddings\n",
    "\n",
    "! wget https://nlp.stanford.edu/data/glove.twitter.27B.zip\n",
    "! unzip glove.twitter.27B.zip"
   ]
  },
  {
   "cell_type": "code",
   "execution_count": 3,
   "metadata": {},
   "outputs": [],
   "source": [
    "import util\n",
    "\n",
    "embeddings_path = 'glove.twitter.27B.200d.txt'\n",
    "vocab_path = \"./vocab.txt\"\n",
    "SPECIAL_TOKENS = ['<UNK>', '<PAD>', '<SOS>', '<EOS>']\n",
    "\n",
    "# Download and split data\n",
    "train_sentences, train_labels, test_sentences, test_labels, label2i = util.load_datasets()\n",
    "training_sentences, training_labels, dev_sentences, dev_labels = util.split_data(train_sentences, train_labels, split=0.85)"
   ]
  },
  {
   "cell_type": "code",
   "execution_count": 4,
   "metadata": {},
   "outputs": [],
   "source": [
    "# Set up tokenizer and make vocab\n",
    "tokenizer = util.Tokenizer()\n",
    "all_data = train_sentences + test_sentences\n",
    "tokenized_data = tokenizer.tokenize(all_data)\n",
    "vocab = sorted(set([w for ws in tokenized_data + [SPECIAL_TOKENS] for w in ws]))\n",
    "with open('vocab.txt', 'w') as vf:\n",
    "    vf.write('\\n'.join(vocab))"
   ]
  },
  {
   "cell_type": "code",
   "execution_count": 5,
   "metadata": {},
   "outputs": [
    {
     "name": "stdout",
     "output_type": "stream",
     "text": [
      "Reading embeddings from glove.twitter.27B.200d.txt...\n"
     ]
    }
   ],
   "source": [
    "# Load the pretrained embeddings, find the out-of-vocabularies, and add to word2i and embeddings\n",
    "glove_word2i, glove_embeddings = util.read_pretrained_embeddings(embeddings_path, vocab_path)\n",
    "oovs = util.get_oovs(vocab_path, glove_word2i)\n",
    "word2i, embeddings = util.update_embeddings(glove_word2i, glove_embeddings, oovs)"
   ]
  },
  {
   "cell_type": "code",
   "execution_count": 6,
   "metadata": {},
   "outputs": [],
   "source": [
    "# Initialize model\n",
    "import torch\n",
    "\n",
    "model = util.IronyDetector(\n",
    "    input_dim=embeddings.shape[1],\n",
    "    hidden_dim=128,\n",
    "    embeddings_tensor=embeddings,\n",
    "    pad_idx=word2i[\"<PAD>\"],\n",
    "    output_size=len(label2i),\n",
    ")"
   ]
  },
  {
   "cell_type": "code",
   "execution_count": 7,
   "metadata": {},
   "outputs": [],
   "source": [
    "# Hyperparameters\n",
    "batch_size = 8\n",
    "epochs = 15\n",
    "learning_rate = 0.00005\n",
    "weight_decay = 0\n",
    "optimizer = torch.optim.AdamW(model.parameters(), learning_rate, weight_decay=weight_decay)\n",
    "\n",
    "# Create batches\n",
    "batch_tokenized = []\n",
    "for batch in util.make_batches(training_sentences, batch_size):\n",
    "    batch_tokenized.append(tokenizer(batch))\n",
    "batch_labels = util.make_batches(training_labels, batch_size)\n",
    "dev_sentences = tokenizer(dev_sentences)\n",
    "test_sentences = tokenizer(test_sentences)\n",
    "\n",
    "# Encode data\n",
    "train_features = [util.encode_sentences(batch, word2i) for batch in batch_tokenized]\n",
    "train_labels = [util.encode_labels(batch) for batch in batch_labels]\n",
    "dev_features = util.encode_sentences(dev_sentences, word2i)\n",
    "dev_labels = [int(l) for l in dev_labels]"
   ]
  },
  {
   "cell_type": "code",
   "execution_count": 8,
   "metadata": {},
   "outputs": [
    {
     "name": "stdout",
     "output_type": "stream",
     "text": [
      "Training...\n"
     ]
    },
    {
     "data": {
      "application/vnd.jupyter.widget-view+json": {
       "model_id": "efa716770b6646bc8ada52b84d001c0d",
       "version_major": 2,
       "version_minor": 0
      },
      "text/plain": [
       "  0%|          | 0/408 [00:00<?, ?it/s]"
      ]
     },
     "metadata": {},
     "output_type": "display_data"
    },
    {
     "name": "stdout",
     "output_type": "stream",
     "text": [
      "epoch 1, loss: 0.6934011619465024\n",
      "Evaluating dev...\n",
      "Dev F1 0.006756756756756757\n",
      "Avg Dev F1 0.33164940641576157\n"
     ]
    },
    {
     "data": {
      "application/vnd.jupyter.widget-view+json": {
       "model_id": "353f6e4bbc2648af99220ba290b73fb0",
       "version_major": 2,
       "version_minor": 0
      },
      "text/plain": [
       "  0%|          | 0/408 [00:00<?, ?it/s]"
      ]
     },
     "metadata": {},
     "output_type": "display_data"
    },
    {
     "name": "stdout",
     "output_type": "stream",
     "text": [
      "epoch 2, loss: 0.6897910628833023\n",
      "Evaluating dev...\n",
      "Dev F1 0.5787781350482316\n",
      "Avg Dev F1 0.5422192562033611\n"
     ]
    },
    {
     "data": {
      "application/vnd.jupyter.widget-view+json": {
       "model_id": "fd60aec624774fbe88920f1b66d296fe",
       "version_major": 2,
       "version_minor": 0
      },
      "text/plain": [
       "  0%|          | 0/408 [00:00<?, ?it/s]"
      ]
     },
     "metadata": {},
     "output_type": "display_data"
    },
    {
     "name": "stdout",
     "output_type": "stream",
     "text": [
      "epoch 3, loss: 0.6628705870141002\n",
      "Evaluating dev...\n",
      "Dev F1 0.6243902439024389\n",
      "Avg Dev F1 0.5971113230685379\n"
     ]
    },
    {
     "data": {
      "application/vnd.jupyter.widget-view+json": {
       "model_id": "1c9d47499dfe42c7a8be54ac3bc0d76b",
       "version_major": 2,
       "version_minor": 0
      },
      "text/plain": [
       "  0%|          | 0/408 [00:00<?, ?it/s]"
      ]
     },
     "metadata": {},
     "output_type": "display_data"
    },
    {
     "name": "stdout",
     "output_type": "stream",
     "text": [
      "epoch 4, loss: 0.6351806845004652\n",
      "Evaluating dev...\n",
      "Dev F1 0.6061705989110707\n",
      "Avg Dev F1 0.6225528535320745\n"
     ]
    },
    {
     "data": {
      "application/vnd.jupyter.widget-view+json": {
       "model_id": "54741c27f6fa469b964ccb8a8ec02e1d",
       "version_major": 2,
       "version_minor": 0
      },
      "text/plain": [
       "  0%|          | 0/408 [00:00<?, ?it/s]"
      ]
     },
     "metadata": {},
     "output_type": "display_data"
    },
    {
     "name": "stdout",
     "output_type": "stream",
     "text": [
      "epoch 5, loss: 0.6151273558829345\n",
      "Evaluating dev...\n",
      "Dev F1 0.6114180478821362\n",
      "Avg Dev F1 0.6324742127752224\n"
     ]
    },
    {
     "data": {
      "application/vnd.jupyter.widget-view+json": {
       "model_id": "50e0aac606c241b08dbf75cc97fa772c",
       "version_major": 2,
       "version_minor": 0
      },
      "text/plain": [
       "  0%|          | 0/408 [00:00<?, ?it/s]"
      ]
     },
     "metadata": {},
     "output_type": "display_data"
    },
    {
     "name": "stdout",
     "output_type": "stream",
     "text": [
      "epoch 6, loss: 0.6019185924646901\n",
      "Evaluating dev...\n",
      "Dev F1 0.5974025974025975\n",
      "Avg Dev F1 0.6217029300226691\n"
     ]
    },
    {
     "data": {
      "application/vnd.jupyter.widget-view+json": {
       "model_id": "9912b4b402d148ecbf9db9379f528bf4",
       "version_major": 2,
       "version_minor": 0
      },
      "text/plain": [
       "  0%|          | 0/408 [00:00<?, ?it/s]"
      ]
     },
     "metadata": {},
     "output_type": "display_data"
    },
    {
     "name": "stdout",
     "output_type": "stream",
     "text": [
      "epoch 7, loss: 0.5913430194133052\n",
      "Evaluating dev...\n",
      "Dev F1 0.5947955390334573\n",
      "Avg Dev F1 0.6198733395493019\n"
     ]
    },
    {
     "data": {
      "application/vnd.jupyter.widget-view+json": {
       "model_id": "34c8c9fa5594457eb0ca0b7871968baf",
       "version_major": 2,
       "version_minor": 0
      },
      "text/plain": [
       "  0%|          | 0/408 [00:00<?, ?it/s]"
      ]
     },
     "metadata": {},
     "output_type": "display_data"
    },
    {
     "name": "stdout",
     "output_type": "stream",
     "text": [
      "epoch 8, loss: 0.5819064688814037\n",
      "Evaluating dev...\n",
      "Dev F1 0.600375234521576\n",
      "Avg Dev F1 0.6281359209764584\n"
     ]
    },
    {
     "data": {
      "application/vnd.jupyter.widget-view+json": {
       "model_id": "5b1e46084a944ef78a15b0521ca4212c",
       "version_major": 2,
       "version_minor": 0
      },
      "text/plain": [
       "  0%|          | 0/408 [00:00<?, ?it/s]"
      ]
     },
     "metadata": {},
     "output_type": "display_data"
    },
    {
     "name": "stdout",
     "output_type": "stream",
     "text": [
      "epoch 9, loss: 0.5730384714974492\n",
      "Evaluating dev...\n",
      "Dev F1 0.5955056179775281\n",
      "Avg Dev F1 0.622995527435366\n"
     ]
    },
    {
     "data": {
      "application/vnd.jupyter.widget-view+json": {
       "model_id": "6b446b9593a247ffbcd1f63928097525",
       "version_major": 2,
       "version_minor": 0
      },
      "text/plain": [
       "  0%|          | 0/408 [00:00<?, ?it/s]"
      ]
     },
     "metadata": {},
     "output_type": "display_data"
    },
    {
     "name": "stdout",
     "output_type": "stream",
     "text": [
      "epoch 10, loss: 0.564400214701891\n",
      "Evaluating dev...\n",
      "Dev F1 0.5946969696969697\n",
      "Avg Dev F1 0.6258741258741258\n"
     ]
    },
    {
     "data": {
      "application/vnd.jupyter.widget-view+json": {
       "model_id": "b2af681941d1492289cb230f1a770638",
       "version_major": 2,
       "version_minor": 0
      },
      "text/plain": [
       "  0%|          | 0/408 [00:00<?, ?it/s]"
      ]
     },
     "metadata": {},
     "output_type": "display_data"
    },
    {
     "name": "stdout",
     "output_type": "stream",
     "text": [
      "epoch 11, loss: 0.5557388226483383\n",
      "Evaluating dev...\n",
      "Dev F1 0.5945945945945946\n",
      "Avg Dev F1 0.6316821553414613\n"
     ]
    },
    {
     "data": {
      "application/vnd.jupyter.widget-view+json": {
       "model_id": "778698b4bde84a5b8e26a6eaca76ccf6",
       "version_major": 2,
       "version_minor": 0
      },
      "text/plain": [
       "  0%|          | 0/408 [00:00<?, ?it/s]"
      ]
     },
     "metadata": {},
     "output_type": "display_data"
    },
    {
     "name": "stdout",
     "output_type": "stream",
     "text": [
      "epoch 12, loss: 0.5468397133928888\n",
      "Evaluating dev...\n",
      "Dev F1 0.5905511811023622\n",
      "Avg Dev F1 0.6337849073213674\n"
     ]
    },
    {
     "data": {
      "application/vnd.jupyter.widget-view+json": {
       "model_id": "b147c1b2e8db4f9a885a9e8990f21665",
       "version_major": 2,
       "version_minor": 0
      },
      "text/plain": [
       "  0%|          | 0/408 [00:00<?, ?it/s]"
      ]
     },
     "metadata": {},
     "output_type": "display_data"
    },
    {
     "name": "stdout",
     "output_type": "stream",
     "text": [
      "epoch 13, loss: 0.537519573580985\n",
      "Evaluating dev...\n",
      "Dev F1 0.584493041749503\n",
      "Avg Dev F1 0.6312295717222092\n"
     ]
    },
    {
     "data": {
      "application/vnd.jupyter.widget-view+json": {
       "model_id": "27b4001141da4e168425f2550a6f6d60",
       "version_major": 2,
       "version_minor": 0
      },
      "text/plain": [
       "  0%|          | 0/408 [00:00<?, ?it/s]"
      ]
     },
     "metadata": {},
     "output_type": "display_data"
    },
    {
     "name": "stdout",
     "output_type": "stream",
     "text": [
      "epoch 14, loss: 0.5277532096221751\n",
      "Evaluating dev...\n",
      "Dev F1 0.5823293172690762\n",
      "Avg Dev F1 0.6321432519067094\n"
     ]
    },
    {
     "data": {
      "application/vnd.jupyter.widget-view+json": {
       "model_id": "ffa8e87dedb2419398d803653bac5838",
       "version_major": 2,
       "version_minor": 0
      },
      "text/plain": [
       "  0%|          | 0/408 [00:00<?, ?it/s]"
      ]
     },
     "metadata": {},
     "output_type": "display_data"
    },
    {
     "name": "stdout",
     "output_type": "stream",
     "text": [
      "epoch 15, loss: 0.5180919498351275\n",
      "Evaluating dev...\n",
      "Dev F1 0.588469184890656\n",
      "Avg Dev F1 0.6347584753420923\n"
     ]
    }
   ],
   "source": [
    "# Train model\n",
    "trained_model = util.training_loop(\n",
    "    epochs,\n",
    "    train_features,\n",
    "    train_labels,\n",
    "    dev_features,\n",
    "    dev_labels,\n",
    "    optimizer,\n",
    "    model,\n",
    "    label2i,\n",
    ")"
   ]
  },
  {
   "cell_type": "code",
   "execution_count": 9,
   "metadata": {},
   "outputs": [
    {
     "name": "stdout",
     "output_type": "stream",
     "text": [
      "Test F1 0.6035889070146819\n",
      "Avg Test F1 0.6745693226172886\n"
     ]
    }
   ],
   "source": [
    "# Test model\n",
    "test_features = util.encode_sentences(test_sentences, word2i)\n",
    "test_labels = [int(l) for l in test_labels]\n",
    "preds = util.predict(trained_model, test_features)\n",
    "dev_f1 = util.f1_score(preds, test_labels, label2i['1'])\n",
    "dev_avg_f1 = util.avg_f1_score(preds, test_labels, set(label2i.values()))\n",
    "print(f\"Test F1 {dev_f1}\")\n",
    "print(f\"Avg Test F1 {dev_avg_f1}\")"
   ]
  }
 ],
 "metadata": {
  "kernelspec": {
   "display_name": "irony",
   "language": "python",
   "name": "python3"
  },
  "language_info": {
   "codemirror_mode": {
    "name": "ipython",
    "version": 3
   },
   "file_extension": ".py",
   "mimetype": "text/x-python",
   "name": "python",
   "nbconvert_exporter": "python",
   "pygments_lexer": "ipython3",
   "version": "3.9.18"
  }
 },
 "nbformat": 4,
 "nbformat_minor": 2
}
