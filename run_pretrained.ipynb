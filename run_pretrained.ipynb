{
 "cells": [
  {
   "cell_type": "code",
   "execution_count": 1,
   "metadata": {},
   "outputs": [
    {
     "data": {
      "text/plain": [
       "IronyDetector(\n",
       "  (embeddings): Embedding(17301, 25, padding_idx=7811)\n",
       "  (dropout_layer): Dropout(p=0.5, inplace=False)\n",
       "  (lstm): LSTM(25, 64, num_layers=3, batch_first=True, dropout=0.5, bidirectional=True)\n",
       "  (classifier): Linear(in_features=128, out_features=2, bias=True)\n",
       "  (log_softmax): LogSoftmax(dim=2)\n",
       ")"
      ]
     },
     "execution_count": 1,
     "metadata": {},
     "output_type": "execute_result"
    }
   ],
   "source": [
    "# Load model\n",
    "import torch\n",
    "import util\n",
    "\n",
    "embeddings_path = 'glove.twitter.27B.25d.txt'\n",
    "vocab_path = \"./vocab.txt\"\n",
    "SPECIAL_TOKENS = ['<UNK>', '<PAD>', '<SOS>', '<EOS>']\n",
    "\n",
    "MODEL = \"./pretrained_model/pretrained_irony_detector.pth\"\n",
    "EMBEDDINGS = \"./pretrained_model/pretrained_embeddings.pth\"\n",
    "WORD2I = \"./pretrained_model/word2i.pth\"\n",
    "LABEL2I = \"./pretrained_model/label2i.pth\"\n",
    "\n",
    "embeddings = torch.load(EMBEDDINGS)\n",
    "word2i = torch.load(WORD2I)\n",
    "label2i = torch.load(LABEL2I)\n",
    "model = util.IronyDetector(\n",
    "    input_dim=embeddings.shape[1],\n",
    "    hidden_dim=64,\n",
    "    embeddings_tensor=embeddings,\n",
    "    pad_idx=word2i[\"<PAD>\"],\n",
    "    output_size=len(label2i),\n",
    ")\n",
    "model.load_state_dict(torch.load(MODEL))\n",
    "model.eval()"
   ]
  },
  {
   "cell_type": "code",
   "execution_count": 2,
   "metadata": {},
   "outputs": [],
   "source": [
    "# Test model on vanilla\n",
    "train_sentences, train_labels, test_sentences, test_labels, label2i = util.load_datasets()\n",
    "test_features = util.encode_sentences(test_sentences, word2i)\n",
    "test_labels = [int(l) for l in test_labels]\n",
    "preds = util.predict(model, test_features)\n",
    "dev_f1 = util.f1_score(preds, test_labels, label2i['1'])\n",
    "dev_avg_f1 = util.avg_f1_score(preds, test_labels, set(label2i.values()))\n",
    "print(f\"Test F1 {dev_f1}\")\n",
    "print(f\"Avg Test F1 {dev_avg_f1}\")"
   ]
  }
 ],
 "metadata": {
  "kernelspec": {
   "display_name": "irony",
   "language": "python",
   "name": "python3"
  },
  "language_info": {
   "codemirror_mode": {
    "name": "ipython",
    "version": 3
   },
   "file_extension": ".py",
   "mimetype": "text/x-python",
   "name": "python",
   "nbconvert_exporter": "python",
   "pygments_lexer": "ipython3",
   "version": "3.9.18"
  }
 },
 "nbformat": 4,
 "nbformat_minor": 2
}
